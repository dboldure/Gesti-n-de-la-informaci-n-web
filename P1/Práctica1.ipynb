{
 "cells": [
  {
   "cell_type": "markdown",
   "metadata": {},
   "source": [
    "### Práctica de Introducción al lenguaje Python"
   ]
  },
  {
   "cell_type": "markdown",
   "metadata": {},
   "source": [
    "#### Ejercicio 1[4 puntos]\n",
    "Un autómata finito deteminista (AFD) es una modelo matemática que permite representar un tipo de lenguaje formal denominado lenguaje regular. Se caracterizan por un alfabeto, un conjunto finito de estados, un estado inicial, un conjunto de estados finales y una función de transición. La función de transición toma un estado  y  un símbolo,  y devuelve como resultado un estado.\n",
    "El automáta toma como entrada una cadena, y aplica la función de transición sucesivamente sobre los elementos de la entrada. Una vez que ha consumido toda la cadena, se mira el estado al que se ha llegado, y si es un estado final entonces la entrada es aceptada. En caso contrario, la cadena no es aceptada.\n",
    "\n",
    "Se pide simular un AFD que tomará como entrada una cadena que representa la entrada, una lista de tuplas donde cada tupla representa un estado y un símbolo representando la función de transición, un conjunto de estado representando el conjunto de estados finales y un estado representando el estado inicial. El programa ante una entrada dirá si la cadena es aceptada o no lo es.\n",
    "\n",
    "Intentad estructurar el programa separando lo que es el programa que acepta la entrada y nos dice si es aceptado o no, y el programa que simula el AFD.\n",
    "\n",
    "Más información: https://en.wikipedia.org/wiki/Deterministic_finite_automaton\n",
    "\n",
    "No se pueden usar ninguna función o método que simule un AFD."
   ]
  },
  {
   "cell_type": "code",
   "execution_count": 39,
   "metadata": {},
   "outputs": [],
   "source": [
    "def automata_fun(entrada,estadoInicial,estados,estadosFinales,funcionTransicion):\n",
    "    estadoActual = estadoInicial\n",
    "    fin = False\n",
    "    for i in entrada:\n",
    "        j = 0\n",
    "        while (fin == False and j < len(funcionTransicion)):\n",
    "            if funcionTransicion[j][0] == estadoActual and funcionTransicion[j][1] == i:\n",
    "                estadoActual = funcionTransicion[j][2]\n",
    "                fin = True\n",
    "            j += 1\n",
    "        fin = False\n",
    "    esFinal = False\n",
    "    k = 0\n",
    "    while (esFinal == False and k < len(estadosFinales)):\n",
    "        if estadoActual == estadosFinales[k]:\n",
    "            esFinal = True\n",
    "        k += 1\n",
    "    return esFinal"
   ]
  },
  {
   "cell_type": "code",
   "execution_count": 40,
   "metadata": {},
   "outputs": [
    {
     "data": {
      "text/plain": [
       "True"
      ]
     },
     "execution_count": 40,
     "metadata": {},
     "output_type": "execute_result"
    }
   ],
   "source": [
    "entrada =\"abababaa\"\n",
    "estadoInicial = \"q0\"\n",
    "estados = [\"q0\",\"q1\",\"q2\"]\n",
    "estadosFinales =[\"q2\"]\n",
    "funcionTransicion = [[\"q0\", \"a\", \"q1\"],[\"q0\",\"b\", \"q2\"], [\"q1\", \"a\", \"q2\"], [\"q1\", \"b\", \"q0\"],[\"q2\", \"a\", \"q2\"], [\"q2\", \"b\", \"q2\"]]\n",
    "\n",
    "automata_fun(entrada,estadoInicial,estados,estadosFinales,funcionTransicion)"
   ]
  },
  {
   "cell_type": "markdown",
   "metadata": {},
   "source": [
    "#### Ejercicio 2[4 puntos]\n",
    "Considera el problema de cálculo del determinante de una matriz cuadrado de cualquier orden:\n",
    "https://es.wikipedia.org/wiki/Determinante_(matem%C3%A1tica)\n",
    "\n",
    "Se pide implementar un programa que dada una matriz expresada en forma de una lista de listas donde cada lista representa una fila de la matriz, devuelva el determinante de dicha matriz.\n",
    "\n",
    "No se pueden usar ninguna función o método que calcule directamente el determinante."
   ]
  },
  {
   "cell_type": "code",
   "execution_count": null,
   "metadata": {},
   "outputs": [],
   "source": []
  },
  {
   "cell_type": "markdown",
   "metadata": {},
   "source": [
    "#### Ejercicio 3[2 puntos]\n",
    "Implementar un programa en Python tal que tome como entrada el nombre de dos archivos de texto. En un archivo hay un conjunto de palabras separadas por coma en una linea y en el otro archivo un texto cualquiera. El programa debe buscar las palabras del primer archivo en el texto del segundo archivo. Como resultado debe mostrar por pantalla cada palabra buscada y junto a ella el núméro de veces que aparece la palabra en el texto. En caso de no aparecer se indicará que no aparece esa palabra. Para realizar la búsqueda no se distingue entre mayúsculas y minúsculas. \n",
    "\n",
    "No se pueden usar ninguna función o método que realice directamente el procesamiento."
   ]
  },
  {
   "cell_type": "code",
   "execution_count": 41,
   "metadata": {},
   "outputs": [],
   "source": [
    "def comparadorFicheros(nombreFicheroA, nombreFicheroB):\n",
    "    ficheroA=open(nombreFicheroA)\n",
    "    diccionario={}\n",
    "    linea = ficheroA.readlines()\n",
    "    linea = linea[0].split(',')\n",
    "    for palabra in linea:\n",
    "        palabra = palabra.lower()\n",
    "        diccionario[palabra] = 0\n",
    "\n",
    "    ficheroB=open(nombreFicheroB)\n",
    "    for linea in ficheroB:\n",
    "        linea = linea.split()\n",
    "        for palabra in linea:\n",
    "            palabra = palabra.lower()\n",
    "            if palabra in diccionario:\n",
    "                diccionario[palabra] = diccionario[palabra]+1\n",
    "    \n",
    "    for palabra,acumulador in diccionario.items():\n",
    "        print (palabra,acumulador)"
   ]
  },
  {
   "cell_type": "code",
   "execution_count": 42,
   "metadata": {},
   "outputs": [
    {
     "name": "stdout",
     "output_type": "stream",
     "text": [
      "casa 3\n",
      "perro 2\n",
      "gato 2\n",
      "planta 1\n",
      "vajilla 0\n"
     ]
    }
   ],
   "source": [
    "comparadorFicheros(\"ficheroA.txt\", \"ficheroB.txt\")"
   ]
  },
  {
   "cell_type": "markdown",
   "metadata": {},
   "source": [
    "#### Normas de entrega\n",
    "\n",
    "* Fecha tope de entrega: 26/09/2019\n",
    "* La entrega se realizará subiendo al campus virtual un notebook de Jupyter con la solución. El archivo tendrá como nombre IntroPython_GrupoX donde X será el número de grupo correspondiente."
   ]
  }
 ],
 "metadata": {
  "anaconda-cloud": {},
  "kernelspec": {
   "display_name": "Python 3",
   "language": "python",
   "name": "python3"
  },
  "language_info": {
   "codemirror_mode": {
    "name": "ipython",
    "version": 3
   },
   "file_extension": ".py",
   "mimetype": "text/x-python",
   "name": "python",
   "nbconvert_exporter": "python",
   "pygments_lexer": "ipython3",
   "version": "3.7.3"
  }
 },
 "nbformat": 4,
 "nbformat_minor": 1
}
